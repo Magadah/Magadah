{
 "cells": [
  {
   "cell_type": "markdown",
   "metadata": {},
   "source": [
    "MRI Lab Notebook\n",
    "--------------\n",
    "\n",
    "We will open the DICOM file IM_0275\n",
    "\n",
    "Python provides some tools for DICOM image opening in the package **PyDICOM**.\n",
    "\n",
    "Your installation will likely be missing this package, so you can install it using Anaconda. Open an Anaconda Prompt and type **pip install pydicom**. The version that would likely be installed is pydicom-0.9.9"
   ]
  },
  {
   "cell_type": "code",
   "execution_count": null,
   "metadata": {
    "scrolled": true
   },
   "outputs": [],
   "source": [
    "%matplotlib inline\n",
    "from skimage import novice, data, io, exposure\n",
    "import numpy as np\n",
    "import matplotlib.pyplot as plt\n",
    "import matplotlib.image as mpimg\n",
    "import dicom\n",
    "\n",
    "RefDs = dicom.read_file('IM_0275')\n",
    "\n",
    "print(RefDs)\n",
    "\n",
    "\n"
   ]
  },
  {
   "cell_type": "markdown",
   "metadata": {},
   "source": [
    "\n",
    "\n",
    "Let's answer some questions with the Metadata:\n",
    "\n"
   ]
  },
  {
   "cell_type": "code",
   "execution_count": null,
   "metadata": {},
   "outputs": [],
   "source": [
    "from datetime import datetime\n",
    "\n",
    "print('a) The image is '+str(RefDs.Rows)+'x'+str(RefDs.Columns)+' pixels')\n",
    "print('b) The manufacturer is '+str(RefDs.Manufacturer))\n",
    "print('c) The model is '+str(RefDs.ManufacturersModelName))\n",
    "print('d) The image modality is '+str(RefDs.Modality))\n",
    "d=datetime.strptime(RefDs.AcquisitionDate,'%Y%m%d')\n",
    "print('e) The image was made on '+str(d.date()))\n",
    "if RefDs.PatientsName=='':\n",
    "    print('f) The patient\\'s name is unkown')\n",
    "else:\n",
    "    print('f) The patient\\'s name is '+str(RefDs.PatientsName))\n",
    "\n",
    "print('g) The image was encoded with '+str(RefDs.BitsStored)+' bits ')"
   ]
  },
  {
   "cell_type": "markdown",
   "metadata": {},
   "source": [
    "\n",
    "Let's now show the image. First, we need to dimension an array with all the pixels in the image. Then, we can load the information and then show the image."
   ]
  },
  {
   "cell_type": "code",
   "execution_count": null,
   "metadata": {},
   "outputs": [],
   "source": [
    "ConstPixelDims = (int(RefDs.Rows), int(RefDs.Columns))\n",
    "ArrayDicom = np.zeros(ConstPixelDims, dtype=RefDs.pixel_array.dtype)\n",
    "ds = dicom.read_file('IM_0275')\n",
    "ArrayDicom[:,:]=ds.pixel_array\n",
    "\n",
    "#plt.figure()\n",
    "fig=plt.figure(figsize=(10, 10), dpi= 80, facecolor='w', edgecolor='k')\n",
    "plt.axes().set_aspect('equal') #this makes the image square\n",
    "plt.set_cmap(plt.gray()) #grayscale\n",
    "x=np.arange(RefDs.Rows)\n",
    "y=np.arange(RefDs.Columns)\n",
    "\n",
    "plt.pcolormesh(x, y, np.flipud(ArrayDicom[:, :]))\n",
    "plt.axis([x.min(),x.max(),y.min(),y.max()])"
   ]
  },
  {
   "cell_type": "markdown",
   "metadata": {},
   "source": [
    "## Summary"
   ]
  },
  {
   "cell_type": "markdown",
   "metadata": {},
   "source": [
    "In this example we learned how to open and display a DICOM image and how to access Metadata in the DICOM file.\n",
    "\n",
    "\n",
    "\n",
    "Comments and corrections welcome!"
   ]
  },
  {
   "cell_type": "markdown",
   "metadata": {},
   "source": [
    "References\n",
    "---------------\n",
    "\n",
    "* https://pyscience.wordpress.com/2014/09/08/dicom-in-python-importing-medical-image-data-into-numpy-with-pydicom-and-vtk/"
   ]
  }
 ],
 "metadata": {
  "kernelspec": {
   "display_name": "Python 2",
   "language": "python",
   "name": "python2"
  }
 },
 "nbformat": 4,
 "nbformat_minor": 1
}
